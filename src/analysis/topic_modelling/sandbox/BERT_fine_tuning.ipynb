{
 "cells": [
  {
   "cell_type": "code",
   "execution_count": 1,
   "id": "d839ae77-2e30-4528-b3fc-f783eaf7ede2",
   "metadata": {},
   "outputs": [],
   "source": [
    "import pandas as pd\n",
    "import numpy as np\n",
    "import matplotlib.pyplot as plt\n",
    "import seaborn as sns\n",
    "import torch\n",
    "import nltk\n",
    "import re\n",
    "import pickle as pkl\n",
    "from collections import defaultdict, Counter\n",
    "from html import unescape"
   ]
  },
  {
   "cell_type": "code",
   "execution_count": 2,
   "id": "207ce456-6fb2-45ef-a199-6d485700a6ef",
   "metadata": {},
   "outputs": [
    {
     "name": "stderr",
     "output_type": "stream",
     "text": [
      "/home/lindali/anaconda3/lib/python3.9/site-packages/umap/distances.py:1063: NumbaDeprecationWarning: \u001b[1mThe 'nopython' keyword argument was not supplied to the 'numba.jit' decorator. The implicit default value for this argument is currently False, but it will be changed to True in Numba 0.59.0. See https://numba.readthedocs.io/en/stable/reference/deprecation.html#deprecation-of-object-mode-fall-back-behaviour-when-using-jit for details.\u001b[0m\n",
      "  @numba.jit()\n",
      "/home/lindali/anaconda3/lib/python3.9/site-packages/umap/distances.py:1071: NumbaDeprecationWarning: \u001b[1mThe 'nopython' keyword argument was not supplied to the 'numba.jit' decorator. The implicit default value for this argument is currently False, but it will be changed to True in Numba 0.59.0. See https://numba.readthedocs.io/en/stable/reference/deprecation.html#deprecation-of-object-mode-fall-back-behaviour-when-using-jit for details.\u001b[0m\n",
      "  @numba.jit()\n",
      "/home/lindali/anaconda3/lib/python3.9/site-packages/umap/distances.py:1086: NumbaDeprecationWarning: \u001b[1mThe 'nopython' keyword argument was not supplied to the 'numba.jit' decorator. The implicit default value for this argument is currently False, but it will be changed to True in Numba 0.59.0. See https://numba.readthedocs.io/en/stable/reference/deprecation.html#deprecation-of-object-mode-fall-back-behaviour-when-using-jit for details.\u001b[0m\n",
      "  @numba.jit()\n",
      "/home/lindali/anaconda3/lib/python3.9/site-packages/umap/umap_.py:660: NumbaDeprecationWarning: \u001b[1mThe 'nopython' keyword argument was not supplied to the 'numba.jit' decorator. The implicit default value for this argument is currently False, but it will be changed to True in Numba 0.59.0. See https://numba.readthedocs.io/en/stable/reference/deprecation.html#deprecation-of-object-mode-fall-back-behaviour-when-using-jit for details.\u001b[0m\n",
      "  @numba.jit()\n",
      "2023-06-14 10:49:26.541724: I tensorflow/core/platform/cpu_feature_guard.cc:193] This TensorFlow binary is optimized with oneAPI Deep Neural Network Library (oneDNN) to use the following CPU instructions in performance-critical operations:  AVX2 FMA\n",
      "To enable them in other operations, rebuild TensorFlow with the appropriate compiler flags.\n",
      "2023-06-14 10:49:29.109814: W tensorflow/compiler/xla/stream_executor/platform/default/dso_loader.cc:64] Could not load dynamic library 'libnvinfer.so.7'; dlerror: libnvinfer.so.7: cannot open shared object file: No such file or directory\n",
      "2023-06-14 10:49:29.109981: W tensorflow/compiler/xla/stream_executor/platform/default/dso_loader.cc:64] Could not load dynamic library 'libnvinfer_plugin.so.7'; dlerror: libnvinfer_plugin.so.7: cannot open shared object file: No such file or directory\n",
      "2023-06-14 10:49:29.109993: W tensorflow/compiler/tf2tensorrt/utils/py_utils.cc:38] TF-TRT Warning: Cannot dlopen some TensorRT libraries. If you would like to use Nvidia GPU with TensorRT, please make sure the missing libraries mentioned above are installed properly.\n"
     ]
    }
   ],
   "source": [
    "#import umap.umap_ as UMAP\n",
    "from bertopic import BERTopic\n",
    "from bertopic.representation import KeyBERTInspired"
   ]
  },
  {
   "cell_type": "code",
   "execution_count": 3,
   "id": "47e131a3-5389-4454-b3c0-95b722980aa5",
   "metadata": {},
   "outputs": [],
   "source": [
    "df_sample = pd.read_csv(\"./data/clean_ref_ics_data_cleaned_lemmatized_sample.csv\")\n",
    "BERT_results = pd.read_csv(\"./ics_data_bert_original.csv\")"
   ]
  },
  {
   "cell_type": "markdown",
   "id": "3f576bee-ec4d-459a-9b69-8cb8ebe9ae65",
   "metadata": {
    "tags": []
   },
   "source": [
    "## BERT full model"
   ]
  },
  {
   "cell_type": "code",
   "execution_count": 169,
   "id": "eceaf257-1163-457e-90e6-ae7994e24a70",
   "metadata": {},
   "outputs": [
    {
     "data": {
      "text/plain": [
       "Index(['REF impact case study identifier', 'Main panel',\n",
       "       'Unit of assessment number', 'Summary impact type',\n",
       "       '1. Summary of the impact', '2. Underpinning research',\n",
       "       '3. References to the research', '4. Details of the impact',\n",
       "       '5. Sources to corroborate the impact', 'case_id',\n",
       "       'cleaned_1. Summary of the impact', 'cleaned_2. Underpinning research',\n",
       "       'cleaned_3. References to the research',\n",
       "       'cleaned_4. Details of the impact',\n",
       "       'cleaned_5. Sources to corroborate the impact',\n",
       "       'lemmatized_1. Summary of the impact',\n",
       "       'lemmatized_2. Underpinning research',\n",
       "       'lemmatized_3. References to the research',\n",
       "       'lemmatized_4. Details of the impact',\n",
       "       'lemmatized_5. Sources to corroborate the impact'],\n",
       "      dtype='object')"
      ]
     },
     "execution_count": 169,
     "metadata": {},
     "output_type": "execute_result"
    }
   ],
   "source": [
    "df_sample.columns"
   ]
  },
  {
   "cell_type": "code",
   "execution_count": 10,
   "id": "27a40df1-49f4-4de2-a499-3c792e1453ba",
   "metadata": {},
   "outputs": [],
   "source": [
    "cols = [ 'lemmatized_1. Summary of the impact',\n",
    "       'lemmatized_2. Underpinning research',\n",
    "       'lemmatized_4. Details of the impact']\n",
    "\n",
    "cols_full = [ 'cleaned_1. Summary of the impact',\n",
    "       'cleaned_2. Underpinning research',\n",
    "       'cleaned_4. Details of the impact']\n",
    "\n",
    "df_sample['lemmatized_full_text'] = df_sample[cols].apply(lambda row: ' '.join(row.values.astype(str)), axis=1)\n",
    "df_sample['cleaned_full_text'] = df_sample[cols_full].apply(lambda row: ' '.join(row.values.astype(str)), axis=1)"
   ]
  },
  {
   "cell_type": "code",
   "execution_count": 11,
   "id": "4f014c71-c8b4-4b01-aa94-e4f9e7568cd2",
   "metadata": {},
   "outputs": [],
   "source": [
    "with open(\"./data/support/high_freq_words.txt\", \"r\") as f:\n",
    "    high_freq_words = f.read()\n",
    "high_freq_words =  high_freq_words.split(\"\\n\")"
   ]
  },
  {
   "cell_type": "code",
   "execution_count": 12,
   "id": "c2aeea69-8697-41de-8397-a30b67068806",
   "metadata": {},
   "outputs": [],
   "source": [
    "def remove_high_freq(t):\n",
    "    t = t.split(\" \")\n",
    "    t = [word for word in t if word not in high_freq_words]\n",
    "    t = \" \".join(t)\n",
    "    return t\n",
    "df_sample['lemmatized_full_text_no_high_freq'] = df_sample['lemmatized_full_text'].map(remove_high_freq)"
   ]
  },
  {
   "cell_type": "code",
   "execution_count": 182,
   "id": "b1f75127-0d08-46fa-9991-798c11900e56",
   "metadata": {},
   "outputs": [],
   "source": [
    "def bert_model(col, df = df_sample):\n",
    "    representation_model = KeyBERTInspired()\n",
    "    topic_model = BERTopic(language=\"english\", calculate_probabilities=True, verbose=True, representation_model=representation_model)\n",
    "    topics, probs = topic_model.fit_transform(list(df[col]))\n",
    "    return topic_model"
   ]
  },
  {
   "cell_type": "code",
   "execution_count": 183,
   "id": "f9dc697c-5ad2-4d78-abe9-f3711c93170a",
   "metadata": {},
   "outputs": [
    {
     "data": {
      "application/vnd.jupyter.widget-view+json": {
       "model_id": "1e67a7fa78a3412db8ff2f02192e8c30",
       "version_major": 2,
       "version_minor": 0
      },
      "text/plain": [
       "Batches:   0%|          | 0/125 [00:00<?, ?it/s]"
      ]
     },
     "metadata": {},
     "output_type": "display_data"
    },
    {
     "name": "stderr",
     "output_type": "stream",
     "text": [
      "2023-06-11 17:01:52,158 - BERTopic - Transformed documents to Embeddings\n",
      "2023-06-11 17:02:07,448 - BERTopic - Reduced dimensionality\n",
      "2023-06-11 17:02:08,234 - BERTopic - Clustered reduced embeddings\n"
     ]
    },
    {
     "name": "stdout",
     "output_type": "stream",
     "text": [
      "CPU times: user 19min 28s, sys: 3min 50s, total: 23min 19s\n",
      "Wall time: 4min 8s\n"
     ]
    }
   ],
   "source": [
    "%%time\n",
    "full_bert = bert_model('lemmatized_full_text_no_high_freq')"
   ]
  },
  {
   "cell_type": "code",
   "execution_count": 192,
   "id": "5be4ae78-a1b0-4ea2-8fd1-92f04d57933c",
   "metadata": {},
   "outputs": [
    {
     "data": {
      "text/html": [
       "<div>\n",
       "<style scoped>\n",
       "    .dataframe tbody tr th:only-of-type {\n",
       "        vertical-align: middle;\n",
       "    }\n",
       "\n",
       "    .dataframe tbody tr th {\n",
       "        vertical-align: top;\n",
       "    }\n",
       "\n",
       "    .dataframe thead th {\n",
       "        text-align: right;\n",
       "    }\n",
       "</style>\n",
       "<table border=\"1\" class=\"dataframe\">\n",
       "  <thead>\n",
       "    <tr style=\"text-align: right;\">\n",
       "      <th></th>\n",
       "      <th>Topic</th>\n",
       "      <th>Count</th>\n",
       "      <th>Name</th>\n",
       "    </tr>\n",
       "  </thead>\n",
       "  <tbody>\n",
       "    <tr>\n",
       "      <th>0</th>\n",
       "      <td>-1</td>\n",
       "      <td>1339</td>\n",
       "      <td>-1_curriculum_educational_health_building</td>\n",
       "    </tr>\n",
       "    <tr>\n",
       "      <th>1</th>\n",
       "      <td>0</td>\n",
       "      <td>209</td>\n",
       "      <td>0_curatorial_contemporary_curator_exhibit</td>\n",
       "    </tr>\n",
       "    <tr>\n",
       "      <th>2</th>\n",
       "      <td>1</td>\n",
       "      <td>184</td>\n",
       "      <td>1_hospital_healthcare_hospice_medical</td>\n",
       "    </tr>\n",
       "    <tr>\n",
       "      <th>3</th>\n",
       "      <td>2</td>\n",
       "      <td>122</td>\n",
       "      <td>2_music_musical_musician_orchestra</td>\n",
       "    </tr>\n",
       "    <tr>\n",
       "      <th>4</th>\n",
       "      <td>3</td>\n",
       "      <td>95</td>\n",
       "      <td>3_entrepreneurship_entrepreneur_enterprise_ent...</td>\n",
       "    </tr>\n",
       "    <tr>\n",
       "      <th>...</th>\n",
       "      <td>...</td>\n",
       "      <td>...</td>\n",
       "      <td>...</td>\n",
       "    </tr>\n",
       "    <tr>\n",
       "      <th>67</th>\n",
       "      <td>66</td>\n",
       "      <td>11</td>\n",
       "      <td>66_classroom_educational_curriculum_school</td>\n",
       "    </tr>\n",
       "    <tr>\n",
       "      <th>68</th>\n",
       "      <td>67</td>\n",
       "      <td>11</td>\n",
       "      <td>67_merger_merge_market_competition</td>\n",
       "    </tr>\n",
       "    <tr>\n",
       "      <th>69</th>\n",
       "      <td>68</td>\n",
       "      <td>11</td>\n",
       "      <td>68_poverty_income_deprivation_livelihood</td>\n",
       "    </tr>\n",
       "    <tr>\n",
       "      <th>70</th>\n",
       "      <td>69</td>\n",
       "      <td>10</td>\n",
       "      <td>69_youth_young_teenager_participation</td>\n",
       "    </tr>\n",
       "    <tr>\n",
       "      <th>71</th>\n",
       "      <td>70</td>\n",
       "      <td>10</td>\n",
       "      <td>70_parliament_legislation_legislative_parliame...</td>\n",
       "    </tr>\n",
       "  </tbody>\n",
       "</table>\n",
       "<p>72 rows × 3 columns</p>\n",
       "</div>"
      ],
      "text/plain": [
       "    Topic  Count                                               Name\n",
       "0      -1   1339          -1_curriculum_educational_health_building\n",
       "1       0    209          0_curatorial_contemporary_curator_exhibit\n",
       "2       1    184              1_hospital_healthcare_hospice_medical\n",
       "3       2    122                 2_music_musical_musician_orchestra\n",
       "4       3     95  3_entrepreneurship_entrepreneur_enterprise_ent...\n",
       "..    ...    ...                                                ...\n",
       "67     66     11         66_classroom_educational_curriculum_school\n",
       "68     67     11                 67_merger_merge_market_competition\n",
       "69     68     11           68_poverty_income_deprivation_livelihood\n",
       "70     69     10              69_youth_young_teenager_participation\n",
       "71     70     10  70_parliament_legislation_legislative_parliame...\n",
       "\n",
       "[72 rows x 3 columns]"
      ]
     },
     "execution_count": 192,
     "metadata": {},
     "output_type": "execute_result"
    }
   ],
   "source": [
    "full_bert.get_topic_info()"
   ]
  },
  {
   "cell_type": "code",
   "execution_count": 14,
   "id": "7ba6d594-f993-40f7-b4f2-da8b4c7c4c38",
   "metadata": {},
   "outputs": [],
   "source": [
    "bert_results = df_sample[[\"case_id\", \"lemmatized_full_text_no_high_freq\"]]\n",
    "bert_results[\"BERT_topic_full\"] = full_bert.topics_\n",
    "bert_results[\"BERT_proba_full\"] = [max(i) for i in full_bert.probabilities_]"
   ]
  },
  {
   "cell_type": "code",
   "execution_count": 15,
   "id": "9e79094a-5792-42e7-8b94-d18e06a46d46",
   "metadata": {},
   "outputs": [],
   "source": [
    "huge_cluster = bert_results[bert_results.BERT_topic_full == -1]"
   ]
  },
  {
   "cell_type": "code",
   "execution_count": 187,
   "id": "da694c13-9dff-4cb6-ab74-1f6e3911e842",
   "metadata": {},
   "outputs": [
    {
     "data": {
      "application/vnd.jupyter.widget-view+json": {
       "model_id": "28a9337aca7543ea992d52b34b89b5aa",
       "version_major": 2,
       "version_minor": 0
      },
      "text/plain": [
       "Batches:   0%|          | 0/42 [00:00<?, ?it/s]"
      ]
     },
     "metadata": {},
     "output_type": "display_data"
    },
    {
     "name": "stderr",
     "output_type": "stream",
     "text": [
      "2023-06-11 17:03:40,720 - BERTopic - Transformed documents to Embeddings\n",
      "2023-06-11 17:03:45,892 - BERTopic - Reduced dimensionality\n",
      "2023-06-11 17:03:46,013 - BERTopic - Clustered reduced embeddings\n"
     ]
    }
   ],
   "source": [
    "huge_cluster_bert = bert_model('lemmatized_full_text_no_high_freq', huge_cluster)"
   ]
  },
  {
   "cell_type": "code",
   "execution_count": 189,
   "id": "35f06cd8-c682-454e-9d38-2d3cf89a16cb",
   "metadata": {},
   "outputs": [
    {
     "data": {
      "text/html": [
       "<div>\n",
       "<style scoped>\n",
       "    .dataframe tbody tr th:only-of-type {\n",
       "        vertical-align: middle;\n",
       "    }\n",
       "\n",
       "    .dataframe tbody tr th {\n",
       "        vertical-align: top;\n",
       "    }\n",
       "\n",
       "    .dataframe thead th {\n",
       "        text-align: right;\n",
       "    }\n",
       "</style>\n",
       "<table border=\"1\" class=\"dataframe\">\n",
       "  <thead>\n",
       "    <tr style=\"text-align: right;\">\n",
       "      <th></th>\n",
       "      <th>Topic</th>\n",
       "      <th>Count</th>\n",
       "      <th>Name</th>\n",
       "    </tr>\n",
       "  </thead>\n",
       "  <tbody>\n",
       "    <tr>\n",
       "      <th>0</th>\n",
       "      <td>-1</td>\n",
       "      <td>384</td>\n",
       "      <td>-1_volunteer_rural_individual_audience</td>\n",
       "    </tr>\n",
       "    <tr>\n",
       "      <th>1</th>\n",
       "      <td>0</td>\n",
       "      <td>132</td>\n",
       "      <td>0_crime_criminal_victim_police</td>\n",
       "    </tr>\n",
       "    <tr>\n",
       "      <th>2</th>\n",
       "      <td>1</td>\n",
       "      <td>100</td>\n",
       "      <td>1_pedagogical_educator_literacy_educational</td>\n",
       "    </tr>\n",
       "    <tr>\n",
       "      <th>3</th>\n",
       "      <td>2</td>\n",
       "      <td>98</td>\n",
       "      <td>2_banking_consumer_regulatory_legislation</td>\n",
       "    </tr>\n",
       "    <tr>\n",
       "      <th>4</th>\n",
       "      <td>3</td>\n",
       "      <td>93</td>\n",
       "      <td>3_sustainability_infrastructure_sustainable_en...</td>\n",
       "    </tr>\n",
       "    <tr>\n",
       "      <th>5</th>\n",
       "      <td>4</td>\n",
       "      <td>60</td>\n",
       "      <td>4_theatre_playwright_audience_performer</td>\n",
       "    </tr>\n",
       "    <tr>\n",
       "      <th>6</th>\n",
       "      <td>5</td>\n",
       "      <td>60</td>\n",
       "      <td>5_organisational_corporate_manage_strategic</td>\n",
       "    </tr>\n",
       "    <tr>\n",
       "      <th>7</th>\n",
       "      <td>6</td>\n",
       "      <td>42</td>\n",
       "      <td>6_health_exercise_chronic_clinical</td>\n",
       "    </tr>\n",
       "    <tr>\n",
       "      <th>8</th>\n",
       "      <td>7</td>\n",
       "      <td>40</td>\n",
       "      <td>7_health_neurodevelopmental_depression_therapy</td>\n",
       "    </tr>\n",
       "    <tr>\n",
       "      <th>9</th>\n",
       "      <td>8</td>\n",
       "      <td>31</td>\n",
       "      <td>8_ideology_brexit_diverse_german</td>\n",
       "    </tr>\n",
       "    <tr>\n",
       "      <th>10</th>\n",
       "      <td>9</td>\n",
       "      <td>29</td>\n",
       "      <td>9_roman_antiquity_ancient_archaeological</td>\n",
       "    </tr>\n",
       "    <tr>\n",
       "      <th>11</th>\n",
       "      <td>10</td>\n",
       "      <td>29</td>\n",
       "      <td>10_peruvian_peru_colombian_andean</td>\n",
       "    </tr>\n",
       "    <tr>\n",
       "      <th>12</th>\n",
       "      <td>11</td>\n",
       "      <td>28</td>\n",
       "      <td>11_abortion_surrogate_legislation_parliament</td>\n",
       "    </tr>\n",
       "    <tr>\n",
       "      <th>13</th>\n",
       "      <td>12</td>\n",
       "      <td>28</td>\n",
       "      <td>12_youth_childhood_intergenerational_child</td>\n",
       "    </tr>\n",
       "    <tr>\n",
       "      <th>14</th>\n",
       "      <td>13</td>\n",
       "      <td>22</td>\n",
       "      <td>13_scottish_highland_land_scotland</td>\n",
       "    </tr>\n",
       "    <tr>\n",
       "      <th>15</th>\n",
       "      <td>14</td>\n",
       "      <td>22</td>\n",
       "      <td>14_empowerment_ngo_gender_uganda</td>\n",
       "    </tr>\n",
       "    <tr>\n",
       "      <th>16</th>\n",
       "      <td>15</td>\n",
       "      <td>19</td>\n",
       "      <td>15_ecology_nature_environmental_environment</td>\n",
       "    </tr>\n",
       "    <tr>\n",
       "      <th>17</th>\n",
       "      <td>16</td>\n",
       "      <td>18</td>\n",
       "      <td>16_fatherhood_adoption_parental_parent</td>\n",
       "    </tr>\n",
       "    <tr>\n",
       "      <th>18</th>\n",
       "      <td>17</td>\n",
       "      <td>17</td>\n",
       "      <td>17_welfare_scottish_voluntary_scotland</td>\n",
       "    </tr>\n",
       "    <tr>\n",
       "      <th>19</th>\n",
       "      <td>18</td>\n",
       "      <td>15</td>\n",
       "      <td>18_nuclear_uranium_reactor_radioactive</td>\n",
       "    </tr>\n",
       "    <tr>\n",
       "      <th>20</th>\n",
       "      <td>19</td>\n",
       "      <td>14</td>\n",
       "      <td>19_welsh_corpus_language_speech</td>\n",
       "    </tr>\n",
       "    <tr>\n",
       "      <th>21</th>\n",
       "      <td>20</td>\n",
       "      <td>12</td>\n",
       "      <td>20_indigenous_aboriginal_tribunal_kampala</td>\n",
       "    </tr>\n",
       "    <tr>\n",
       "      <th>22</th>\n",
       "      <td>21</td>\n",
       "      <td>12</td>\n",
       "      <td>21_pension_pensioner_retirement_investment</td>\n",
       "    </tr>\n",
       "    <tr>\n",
       "      <th>23</th>\n",
       "      <td>22</td>\n",
       "      <td>12</td>\n",
       "      <td>22_manchester_lincolnshire_lancashire_memorial</td>\n",
       "    </tr>\n",
       "    <tr>\n",
       "      <th>24</th>\n",
       "      <td>23</td>\n",
       "      <td>11</td>\n",
       "      <td>23_homelessness_homeless_shelter_housing</td>\n",
       "    </tr>\n",
       "    <tr>\n",
       "      <th>25</th>\n",
       "      <td>24</td>\n",
       "      <td>11</td>\n",
       "      <td>24_tibetan_tibet_caste_dalits</td>\n",
       "    </tr>\n",
       "  </tbody>\n",
       "</table>\n",
       "</div>"
      ],
      "text/plain": [
       "    Topic  Count                                               Name\n",
       "0      -1    384             -1_volunteer_rural_individual_audience\n",
       "1       0    132                     0_crime_criminal_victim_police\n",
       "2       1    100        1_pedagogical_educator_literacy_educational\n",
       "3       2     98          2_banking_consumer_regulatory_legislation\n",
       "4       3     93  3_sustainability_infrastructure_sustainable_en...\n",
       "5       4     60            4_theatre_playwright_audience_performer\n",
       "6       5     60        5_organisational_corporate_manage_strategic\n",
       "7       6     42                 6_health_exercise_chronic_clinical\n",
       "8       7     40     7_health_neurodevelopmental_depression_therapy\n",
       "9       8     31                   8_ideology_brexit_diverse_german\n",
       "10      9     29           9_roman_antiquity_ancient_archaeological\n",
       "11     10     29                  10_peruvian_peru_colombian_andean\n",
       "12     11     28       11_abortion_surrogate_legislation_parliament\n",
       "13     12     28         12_youth_childhood_intergenerational_child\n",
       "14     13     22                 13_scottish_highland_land_scotland\n",
       "15     14     22                   14_empowerment_ngo_gender_uganda\n",
       "16     15     19        15_ecology_nature_environmental_environment\n",
       "17     16     18             16_fatherhood_adoption_parental_parent\n",
       "18     17     17             17_welfare_scottish_voluntary_scotland\n",
       "19     18     15             18_nuclear_uranium_reactor_radioactive\n",
       "20     19     14                    19_welsh_corpus_language_speech\n",
       "21     20     12          20_indigenous_aboriginal_tribunal_kampala\n",
       "22     21     12         21_pension_pensioner_retirement_investment\n",
       "23     22     12     22_manchester_lincolnshire_lancashire_memorial\n",
       "24     23     11           23_homelessness_homeless_shelter_housing\n",
       "25     24     11                      24_tibetan_tibet_caste_dalits"
      ]
     },
     "execution_count": 189,
     "metadata": {},
     "output_type": "execute_result"
    }
   ],
   "source": [
    "huge_cluster_bert.get_topic_info()"
   ]
  },
  {
   "cell_type": "code",
   "execution_count": 213,
   "id": "24e825ad-b8d4-412e-ba6c-c4e2272e935c",
   "metadata": {},
   "outputs": [],
   "source": [
    "bert_results_cluster = huge_cluster[[\"case_id\"]]\n",
    "bert_results_cluster[\"BERT_topic_full_cluster\"] = [i+71 if i != -1 else -1 for i in huge_cluster_bert.topics_]\n",
    "bert_results_cluster[\"BERT_proba_full_cluster\"] = [max(i) for i in huge_cluster_bert.probabilities_]"
   ]
  },
  {
   "cell_type": "code",
   "execution_count": 214,
   "id": "cdbf1d20-9db5-4d79-9d0f-5540456e1958",
   "metadata": {},
   "outputs": [],
   "source": [
    "bert_results = bert_results.merge(bert_results_cluster, how = 'left', on = \"case_id\", copy = False)"
   ]
  },
  {
   "cell_type": "code",
   "execution_count": 215,
   "id": "352d4854-df48-4eae-941c-0459253a81f4",
   "metadata": {},
   "outputs": [],
   "source": [
    "bert_results_cleaned = bert_results.copy()"
   ]
  },
  {
   "cell_type": "code",
   "execution_count": 216,
   "id": "06d63ba3-7490-4d3d-9e65-ad25bd4ac9fb",
   "metadata": {},
   "outputs": [],
   "source": [
    "\n",
    "bert_results_cleaned['BERT_proba_full'] = np.where(bert_results_cleaned['BERT_topic_full'] == -1, \n",
    "                                                           bert_results_cleaned['BERT_proba_full_cluster'], \n",
    "                                                           bert_results_cleaned['BERT_proba_full'])\n",
    "bert_results_cleaned['BERT_topic_full'] = np.where(bert_results_cleaned['BERT_topic_full'] == -1, \n",
    "                                                           bert_results_cleaned['BERT_topic_full_cluster'], \n",
    "                                                           bert_results_cleaned['BERT_topic_full'])\n"
   ]
  },
  {
   "cell_type": "code",
   "execution_count": null,
   "id": "78b01139-79a1-41c4-964e-c9bbb8783c01",
   "metadata": {},
   "outputs": [],
   "source": [
    "bert_results_cleaned.drop(columns = ['BERT_topic_full_cluster','BERT_proba_full_cluster','lemmatized_full_text_no_high_freq'], inplace = True)"
   ]
  },
  {
   "cell_type": "code",
   "execution_count": 222,
   "id": "7d77a404-5f9e-4f50-8a5f-888de8b08d66",
   "metadata": {},
   "outputs": [],
   "source": [
    "BERT_results = BERT_results.merge(bert_results_cleaned,  how = 'left', on = \"case_id\", copy = False)"
   ]
  },
  {
   "cell_type": "code",
   "execution_count": 224,
   "id": "bfe98f2f-3661-40bb-a280-027cdaa04605",
   "metadata": {},
   "outputs": [],
   "source": [
    "BERT_results.to_csv(\"ics_data_bert_original_with_full_text.csv\", index = False)"
   ]
  },
  {
   "cell_type": "code",
   "execution_count": 230,
   "id": "7dab3d86-9476-43e3-b626-3b476d4ff141",
   "metadata": {},
   "outputs": [],
   "source": [
    "keywords = pd.DataFrame.from_records(full_bert.get_topics()).T.reset_index()\n",
    "keywords.rename({\"index\":\"topic_id\"}, axis=1, inplace = True)\n",
    "\n",
    "keywords_cluster = pd.DataFrame.from_records(huge_cluster_bert.get_topics()).T.reset_index()\n",
    "keywords_cluster.rename({\"index\":\"topic_id\"}, axis=1, inplace = True)\n",
    "keywords_cluster['topic_id'] = [i+71 if i != -1 else -1 for i in keywords_cluster.topic_id]\n"
   ]
  },
  {
   "cell_type": "code",
   "execution_count": 231,
   "id": "c85828ee-34ed-4b4b-a469-b2dfa96ec46d",
   "metadata": {},
   "outputs": [],
   "source": [
    "keywords = pd.concat([keywords, keywords_cluster],ignore_index=True)"
   ]
  },
  {
   "cell_type": "code",
   "execution_count": 233,
   "id": "312b2279-6abb-4f50-ae51-d8163396105c",
   "metadata": {},
   "outputs": [],
   "source": [
    "keywords.to_csv(\"./models/BERT_keywords_full_text.csv\", index = False)"
   ]
  },
  {
   "cell_type": "code",
   "execution_count": 234,
   "id": "bd2fbe63-f92e-4951-b19e-7e4f04b8f5c7",
   "metadata": {},
   "outputs": [],
   "source": [
    "full_bert.save(\"./models/BERT_original_full\")\n",
    "huge_cluster_bert.save(\"./models/BERT_original_full_huge_cluster\")"
   ]
  },
  {
   "cell_type": "markdown",
   "id": "4554cf58-c831-4293-8643-a73f289e6f0e",
   "metadata": {},
   "source": [
    "## Other results output for analysis"
   ]
  },
  {
   "cell_type": "code",
   "execution_count": 22,
   "id": "a20550af-8bc5-4f13-b947-1af7f5429c46",
   "metadata": {},
   "outputs": [],
   "source": [
    "full_bert = BERTopic.load(\"./models/BERT_original_full\")\n",
    "huge_cluster_bert = BERTopic.load(\"./models/BERT_original_full_huge_cluster\")"
   ]
  },
  {
   "cell_type": "markdown",
   "id": "e3392c29-d615-4f92-8771-088d1480e3f8",
   "metadata": {
    "tags": []
   },
   "source": [
    "### Top X probabilities"
   ]
  },
  {
   "cell_type": "code",
   "execution_count": 26,
   "id": "5b488d26-bd46-4f20-bafd-039576bd1a15",
   "metadata": {},
   "outputs": [
    {
     "data": {
      "text/plain": [
       "26"
      ]
     },
     "execution_count": 26,
     "metadata": {},
     "output_type": "execute_result"
    }
   ],
   "source": [
    "len(set(huge_cluster_bert.topics_))"
   ]
  },
  {
   "cell_type": "code",
   "execution_count": 27,
   "id": "5a94a755-164f-45ce-a088-6077d464f3c7",
   "metadata": {},
   "outputs": [],
   "source": [
    "def get_top_prob(model, top_n = 5):\n",
    "    all_probs = []\n",
    "    for row in model.probabilities_:\n",
    "        topics = list(range(len(set(full_bert.topics_))-1))\n",
    "        prob_dict = {k:v for k,v in zip(topics, list(row))}\n",
    "        prob_dict = dict(sorted(prob_dict.items(), key=lambda item: item[1], reverse=True)[:top_n])\n",
    "        if model == huge_cluster_bert:\n",
    "            prob = [(k+71, v) if k!=-1 else (k,v) for k, v in prob_dict.items()]\n",
    "        else:\n",
    "            prob = [(k,v) for k, v in prob_dict.items()]\n",
    "        prob = [item for sublist in prob for item in sublist]\n",
    "                \n",
    "        prob_keys = [\"topic_top\", \"prob_top\"] * top_n\n",
    "        prob_keys_id = np.repeat(list(range(1,top_n+1)),2)\n",
    "        prob_keys = [str(i)+str(j) for i,j in zip(prob_keys,prob_keys_id)]\n",
    "        \n",
    "        prob = {k:v for k,v in zip(prob_keys, prob)}\n",
    "        all_probs.append(prob)\n",
    "    \n",
    "    return all_probs"
   ]
  },
  {
   "cell_type": "code",
   "execution_count": 28,
   "id": "bcad6983-40b4-452c-a624-4800ef3813cf",
   "metadata": {},
   "outputs": [],
   "source": [
    "full_bert_prob = get_top_prob(full_bert,71)\n",
    "cluster_prob = get_top_prob(huge_cluster_bert,71)"
   ]
  },
  {
   "cell_type": "code",
   "execution_count": 30,
   "id": "c41df9fa-4d65-47e9-9b5c-9aa1d7acb27f",
   "metadata": {},
   "outputs": [
    {
     "data": {
      "text/plain": [
       "1339"
      ]
     },
     "execution_count": 30,
     "metadata": {},
     "output_type": "execute_result"
    }
   ],
   "source": [
    "minus_ones = [i for i, e in enumerate(full_bert.topics_) if e == -1]\n",
    "len(minus_ones)"
   ]
  },
  {
   "cell_type": "code",
   "execution_count": 31,
   "id": "956aaea5-e228-42bb-b5ba-c847d12442cf",
   "metadata": {},
   "outputs": [
    {
     "data": {
      "text/plain": [
       "1339"
      ]
     },
     "execution_count": 31,
     "metadata": {},
     "output_type": "execute_result"
    }
   ],
   "source": [
    "len(cluster_prob)"
   ]
  },
  {
   "cell_type": "code",
   "execution_count": 32,
   "id": "0fb57ebf-82fc-4e89-8dcc-61f70f3b719a",
   "metadata": {},
   "outputs": [],
   "source": [
    "for (index, replacement) in zip(minus_ones, cluster_prob):\n",
    "    full_bert_prob[index] = replacement"
   ]
  },
  {
   "cell_type": "code",
   "execution_count": 33,
   "id": "f71b5176-ac4a-4df8-9c0f-d6cb8b71180c",
   "metadata": {},
   "outputs": [],
   "source": [
    "bert_results_top_5 = pd.DataFrame.from_records(full_bert_prob)\n",
    "bert_results_top_5['case_id'] =  df_sample[[\"case_id\"]]"
   ]
  },
  {
   "cell_type": "code",
   "execution_count": 34,
   "id": "7c557b9a-2dce-4fa3-a9fa-29a821c1fd57",
   "metadata": {},
   "outputs": [
    {
     "data": {
      "text/plain": [
       "Index(['topic_top1', 'prob_top1', 'topic_top2', 'prob_top2', 'topic_top3',\n",
       "       'prob_top3', 'topic_top4', 'prob_top4', 'topic_top5', 'prob_top5',\n",
       "       ...\n",
       "       'prob_top67', 'topic_top68', 'prob_top68', 'topic_top69', 'prob_top69',\n",
       "       'topic_top70', 'prob_top70', 'topic_top71', 'prob_top71', 'case_id'],\n",
       "      dtype='object', length=143)"
      ]
     },
     "execution_count": 34,
     "metadata": {},
     "output_type": "execute_result"
    }
   ],
   "source": [
    "bert_results_top_5.columns"
   ]
  },
  {
   "cell_type": "code",
   "execution_count": 35,
   "id": "23fca584-a8e0-4d1e-a465-d99da15fcda6",
   "metadata": {},
   "outputs": [],
   "source": [
    "bert_results_top_5.to_csv(\"./ics_data_modelling_all_full_text.csv\", index = False)"
   ]
  },
  {
   "cell_type": "markdown",
   "id": "801605d8-0cf7-40c1-bed3-979ca62b1187",
   "metadata": {
    "tags": []
   },
   "source": [
    "### Distance matrix"
   ]
  },
  {
   "cell_type": "code",
   "execution_count": 16,
   "id": "90b290ec-9e57-4868-a7d1-78074c85bde0",
   "metadata": {},
   "outputs": [
    {
     "name": "stderr",
     "output_type": "stream",
     "text": [
      "100%|███████████████████████████████████████████| 70/70 [00:50<00:00,  1.37it/s]\n"
     ]
    }
   ],
   "source": [
    "## Distance matrix\n",
    "full_hierarchical = full_bert.hierarchical_topics(df_sample['lemmatized_full_text_no_high_freq'])"
   ]
  },
  {
   "cell_type": "code",
   "execution_count": 18,
   "id": "e9d11af6-629f-4042-9802-f5d06f4b2d7d",
   "metadata": {},
   "outputs": [],
   "source": [
    "full_hierarchical.to_csv(\"full_bert_model_hierarchy.csv\", index = False)"
   ]
  },
  {
   "cell_type": "code",
   "execution_count": 23,
   "id": "6ee6fa03-f6ed-4110-a5fe-174a21c6bf45",
   "metadata": {},
   "outputs": [
    {
     "name": "stderr",
     "output_type": "stream",
     "text": [
      "100%|███████████████████████████████████████████| 24/24 [00:17<00:00,  1.38it/s]\n"
     ]
    }
   ],
   "source": [
    "cluster_hierarchical = huge_cluster_bert.hierarchical_topics(huge_cluster['lemmatized_full_text_no_high_freq'])"
   ]
  },
  {
   "cell_type": "code",
   "execution_count": 25,
   "id": "431ac457-752a-4397-a405-bbe2eab29d87",
   "metadata": {},
   "outputs": [],
   "source": [
    "cluster_hierarchical.to_csv(\"huge_cluster_bert_model_hierarchy.csv\", index = False)"
   ]
  },
  {
   "cell_type": "code",
   "execution_count": 26,
   "id": "3a55dea1-c589-485f-9a9b-6ca10223c65a",
   "metadata": {},
   "outputs": [],
   "source": [
    "from sklearn.metrics.pairwise import cosine_similarity\n",
    "\n",
    "distance_matrix = cosine_similarity(np.array(full_bert.topic_embeddings_)[1:, :])\n",
    "labels = (full_bert.get_topic_info().sort_values(\"Topic\", ascending=True).Name)[1:]"
   ]
  },
  {
   "cell_type": "code",
   "execution_count": 30,
   "id": "43263c44-6c06-4d25-8405-038ebd49bd03",
   "metadata": {},
   "outputs": [],
   "source": [
    "distance_full = pd.DataFrame(distance_matrix, columns = labels).set_index(labels)"
   ]
  },
  {
   "cell_type": "code",
   "execution_count": 32,
   "id": "8f01707d-d643-4813-94e1-9383c5bc623e",
   "metadata": {},
   "outputs": [],
   "source": [
    "distance_full.to_csv(\"full_bert_model_without_huge_cluster_distance_matrix.csv\")"
   ]
  },
  {
   "cell_type": "code",
   "execution_count": 33,
   "id": "8720a580-be67-4dcd-9b38-814576f82bb3",
   "metadata": {},
   "outputs": [],
   "source": [
    "distance_matrix_cluster = cosine_similarity(np.array(huge_cluster_bert.topic_embeddings_)[1:, :])\n",
    "labels = (huge_cluster_bert.get_topic_info().sort_values(\"Topic\", ascending=True).Name)[1:]\n",
    "distance_cluster = pd.DataFrame(distance_matrix_cluster, columns = labels).set_index(labels)\n",
    "distance_cluster.to_csv(\"bert_model_huge_cluster_distance_matrix.csv\")"
   ]
  },
  {
   "cell_type": "code",
   "execution_count": null,
   "id": "b0fc391d-545c-4797-8e02-a654a665d543",
   "metadata": {},
   "outputs": [],
   "source": []
  }
 ],
 "metadata": {
  "kernelspec": {
   "display_name": "Python 3",
   "language": "python",
   "name": "python3"
  },
  "language_info": {
   "codemirror_mode": {
    "name": "ipython",
    "version": 3
   },
   "file_extension": ".py",
   "mimetype": "text/x-python",
   "name": "python",
   "nbconvert_exporter": "python",
   "pygments_lexer": "ipython3",
   "version": "3.9.13"
  }
 },
 "nbformat": 4,
 "nbformat_minor": 5
}
