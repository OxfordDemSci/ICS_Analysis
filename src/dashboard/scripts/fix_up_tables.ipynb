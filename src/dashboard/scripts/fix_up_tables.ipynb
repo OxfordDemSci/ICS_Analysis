{
 "cells": [
  {
   "cell_type": "code",
   "execution_count": 2,
   "id": "44d05610",
   "metadata": {},
   "outputs": [
    {
     "data": {
      "text/plain": [
       "['FUNDERS_TABLE.csv',\n",
       " 'ICS_DATABASE_TABLE.csv',\n",
       " 'ICS_TO_COUNTRY_LOOKUP_TABLE.csv',\n",
       " 'ICS_TO_FUNDERS_LOOKUP_TABLE.csv',\n",
       " 'INSTITUTES.csv',\n",
       " 'TOPICS_TABLE.csv',\n",
       " 'TOPIC_WEIGHTS_TABLE.csv',\n",
       " 'UOA_TABLE.csv',\n",
       " 'UOA_TABLE_superceded.csv',\n",
       " 'WEBSITE_TEXT.csv']"
      ]
     },
     "execution_count": 2,
     "metadata": {},
     "output_type": "execute_result"
    }
   ],
   "source": [
    "from pathlib import Path\n",
    "import pandas as pd\n",
    "\n",
    "BASE = Path('.').resolve().joinpath('data/for_db')\n",
    "csvs = [x.name for x in BASE.iterdir() if x.name.endswith('.csv')]\n",
    "csvs"
   ]
  },
  {
   "cell_type": "code",
   "execution_count": 17,
   "id": "758f76b3",
   "metadata": {},
   "outputs": [],
   "source": [
    "df = pd.read_csv(BASE.joinpath('ICS_TO_FUNDERS_LOOKUP_TABLE.csv'))\n",
    "df = df[[x for x in df.columns if x != 'Unnamed: 0']]\n",
    "df['id'] = df.index.copy().astype(int)\n",
    "\n",
    "df.to_csv(BASE.joinpath('ICS_TO_FUNDERS_LOOKUP_TABLE.csv'), index=False)"
   ]
  }
 ],
 "metadata": {
  "kernelspec": {
   "display_name": "Python 3 (ipykernel)",
   "language": "python",
   "name": "python3"
  },
  "language_info": {
   "codemirror_mode": {
    "name": "ipython",
    "version": 3
   },
   "file_extension": ".py",
   "mimetype": "text/x-python",
   "name": "python",
   "nbconvert_exporter": "python",
   "pygments_lexer": "ipython3",
   "version": "3.10.6"
  }
 },
 "nbformat": 4,
 "nbformat_minor": 5
}
