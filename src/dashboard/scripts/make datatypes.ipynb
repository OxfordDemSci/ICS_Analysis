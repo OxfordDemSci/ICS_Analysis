{
 "cells": [
  {
   "cell_type": "code",
   "execution_count": null,
   "id": "4eda8e20",
   "metadata": {},
   "outputs": [],
   "source": [
    "import pandas as pd\n",
    "from pathblib import Path\n",
    "BASE = Path(r'C:\\Users\\dkerr\\Documents\\GISRede\\OXFORD_UNI_WORK\\ICS_Analysis\\src\\dashboard\\api\\app\\data\\db-data')\n",
    "TABLES = {\n",
    "    \"ICS_TO_COUNTRY_LOOKUP_TABLE.csv\": \"country\", \n",
    "    \"ICS_DATABASE_TABLE.csv\": \"\", \n",
    "    \"ICS_TO_FUNDERS_LOOKUP_TABLE.csv\",\n",
    "    \"TOPICS_TABLE.csv\",\n",
    "    \"UOA_TABLE.csv\",  \n",
    "}\n"
   ]
  },
  {
   "cell_type": "code",
   "execution_count": 2,
   "id": "328becf8",
   "metadata": {},
   "outputs": [
    {
     "name": "stdout",
     "output_type": "stream",
     "text": [
      "spkei\n"
     ]
    }
   ],
   "source": [
    "x = {\n",
    "  \"countries_counts\": [],\n",
    "  \"funders_counts\": [],\n",
    "  \"uoa_counts\": [],\n",
    "  \"institution_counts\": {},\n",
    "  \"ics_table\": []\n",
    "}\n",
    "if all(not y for y in x.values()):\n",
    "    print('spkei')"
   ]
  }
 ],
 "metadata": {
  "kernelspec": {
   "display_name": "Python 3 (ipykernel)",
   "language": "python",
   "name": "python3"
  },
  "language_info": {
   "codemirror_mode": {
    "name": "ipython",
    "version": 3
   },
   "file_extension": ".py",
   "mimetype": "text/x-python",
   "name": "python",
   "nbconvert_exporter": "python",
   "pygments_lexer": "ipython3",
   "version": "3.10.6"
  }
 },
 "nbformat": 4,
 "nbformat_minor": 5
}
