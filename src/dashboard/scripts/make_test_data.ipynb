{
 "cells": [
  {
   "cell_type": "code",
   "execution_count": 2,
   "id": "08d1d98a",
   "metadata": {},
   "outputs": [],
   "source": [
    "from pathlib import Path\n",
    "import pandas as pd\n",
    "\n",
    "BASE_CSVS = Path(r'C:\\Users\\dkerr\\Documents\\GISRede\\OXFORD_UNI_WORK\\ICS_Analysis\\src\\dashboard\\api\\app\\data\\db-data').resolve()\n",
    "BASE_TEST = Path(r'C:\\Users\\dkerr\\Documents\\GISRede\\OXFORD_UNI_WORK\\ICS_Analysis\\src\\dashboard\\api\\tests\\test_data').resolve()\n"
   ]
  },
  {
   "cell_type": "code",
   "execution_count": 45,
   "id": "993aad10",
   "metadata": {},
   "outputs": [],
   "source": [
    "ics = pd.read_csv(BASE_CSVS.joinpath(\"ICS_DATABASE_TABLE.csv\"))\n",
    "ics = ics.sample(frac=1).reset_index(drop=True)\n",
    "ics_ids = ics.ics_id.tolist()[0:99]\n",
    "ids = ics.id.tolist()[0:99]\n",
    "ukprns = ics.ukprn.tolist()[0:99]\n",
    "ics = ics[ics.ics_id.isin(ics_ids)]\n",
    "ics.to_csv(BASE_TEST.joinpath(\"ICS_DATABASE_TABLE.csv\"), index=False)"
   ]
  },
  {
   "cell_type": "code",
   "execution_count": 46,
   "id": "b17aeaea",
   "metadata": {},
   "outputs": [],
   "source": [
    "df_country = pd.read_csv(BASE_CSVS.joinpath(\"ICS_TO_COUNTRY_LOOKUP_TABLE.csv\"))\n",
    "df_country = df_country[df_country.ics_table_id.isin(ids)]\n",
    "df_country.to_csv(BASE_TEST.joinpath(\"ICS_TO_COUNTRY_LOOKUP_TABLE.csv\"), index=False)"
   ]
  },
  {
   "cell_type": "code",
   "execution_count": 47,
   "id": "884fb2bd",
   "metadata": {},
   "outputs": [],
   "source": [
    "df_funders = pd.read_csv(BASE_CSVS.joinpath(\"ICS_TO_FUNDERS_LOOKUP_TABLE.csv\"))\n",
    "df_funders = df_funders[df_funders.ics_table_id.isin(ids)]\n",
    "df_funders.to_csv(BASE_TEST.joinpath(\"ICS_TO_FUNDERS_LOOKUP_TABLE.csv\"), index=False)"
   ]
  },
  {
   "cell_type": "code",
   "execution_count": 48,
   "id": "ccd0f99d",
   "metadata": {},
   "outputs": [],
   "source": [
    "df_inst = pd.read_csv(BASE_CSVS.joinpath(\"INSTITUTES.csv\"))\n",
    "df_inst = df_inst[df_inst.ukprn.isin(ukprns)]\n",
    "df_inst.to_csv(BASE_TEST.joinpath('INSTITUES.csv'), index=False)"
   ]
  },
  {
   "cell_type": "code",
   "execution_count": 49,
   "id": "90566bd2",
   "metadata": {},
   "outputs": [],
   "source": [
    "df_topic_groups = pd.read_csv(BASE_CSVS.joinpath(\"TOPIC_GROUPS_TABLE.csv\"))\n",
    "df_topic_groups.to_csv(BASE_TEST.joinpath(\"TOPIC_GROUPS_TABLE.csv\"), index=False)"
   ]
  },
  {
   "cell_type": "code",
   "execution_count": 50,
   "id": "3bf9a938",
   "metadata": {},
   "outputs": [],
   "source": [
    "df_weights = pd.read_csv(BASE_CSVS.joinpath(\"TOPIC_WEIGHTS_TABLE.csv\"))\n",
    "df_weights = df_weights[df_weights.ics_id.isin(ics_ids)]\n",
    "df_weights.to_csv(BASE_TEST.joinpath(\"TOPIC_WEIGHTS_TABLE.csv\"), index=False)"
   ]
  },
  {
   "cell_type": "code",
   "execution_count": 51,
   "id": "1d29ddbf",
   "metadata": {},
   "outputs": [],
   "source": [
    "df_topics = pd.read_csv(BASE_CSVS.joinpath(\"TOPICS_TABLE.csv\"))\n",
    "df_topics.to_csv(BASE_TEST.joinpath(\"TOPICS_TABLE.csv\"), index=False)"
   ]
  },
  {
   "cell_type": "code",
   "execution_count": 52,
   "id": "721943a9",
   "metadata": {},
   "outputs": [],
   "source": [
    "df_uoa = pd.read_csv(BASE_CSVS.joinpath(\"UOA_TABLE.csv\"))\n",
    "df_uoa.to_csv(BASE_TEST.joinpath(\"UOA_TABLE.csv\"), index=False)"
   ]
  },
  {
   "cell_type": "code",
   "execution_count": 54,
   "id": "decf8936",
   "metadata": {},
   "outputs": [
    {
     "data": {
      "text/html": [
       "<div>\n",
       "<style scoped>\n",
       "    .dataframe tbody tr th:only-of-type {\n",
       "        vertical-align: middle;\n",
       "    }\n",
       "\n",
       "    .dataframe tbody tr th {\n",
       "        vertical-align: top;\n",
       "    }\n",
       "\n",
       "    .dataframe thead th {\n",
       "        text-align: right;\n",
       "    }\n",
       "</style>\n",
       "<table border=\"1\" class=\"dataframe\">\n",
       "  <thead>\n",
       "    <tr style=\"text-align: right;\">\n",
       "      <th></th>\n",
       "      <th>Unnamed: 0</th>\n",
       "      <th>id</th>\n",
       "      <th>all_topics_description</th>\n",
       "      <th>about</th>\n",
       "      <th>instructions</th>\n",
       "      <th>team</th>\n",
       "      <th>contact</th>\n",
       "      <th>label_info_box</th>\n",
       "      <th>label_top_left_box</th>\n",
       "      <th>label_bottom_left_box</th>\n",
       "      <th>label_top_right_box</th>\n",
       "      <th>label_bottom_right_box</th>\n",
       "      <th>uk_map_colourramp</th>\n",
       "      <th>global_colourramp</th>\n",
       "      <th>funders_bar_colour</th>\n",
       "    </tr>\n",
       "  </thead>\n",
       "  <tbody>\n",
       "    <tr>\n",
       "      <th>0</th>\n",
       "      <td>0</td>\n",
       "      <td>0</td>\n",
       "      <td>This is the all topics description holder text</td>\n",
       "      <td>This is the text describing project</td>\n",
       "      <td>&lt;h1&gt; These are instructions &lt;/h1&gt; 1. This is &lt;...</td>\n",
       "      <td>Any text about the team. If this becomes more ...</td>\n",
       "      <td>Please contact the admin at ics@dashboard.com</td>\n",
       "      <td>Topic Description</td>\n",
       "      <td>Funders</td>\n",
       "      <td>UOA</td>\n",
       "      <td>Institutions</td>\n",
       "      <td>Beneficiaries</td>\n",
       "      <td>['#fff5f0', '#fff5f0', '#fee0d2', '#fcbba1', '...</td>\n",
       "      <td>['#f7fbff', '#e9f2f9', '#deebf7', '#c6dbef', '...</td>\n",
       "      <td>#9ecae1</td>\n",
       "    </tr>\n",
       "  </tbody>\n",
       "</table>\n",
       "</div>"
      ],
      "text/plain": [
       "   Unnamed: 0  id                          all_topics_description  \\\n",
       "0           0   0  This is the all topics description holder text   \n",
       "\n",
       "                                 about  \\\n",
       "0  This is the text describing project   \n",
       "\n",
       "                                        instructions  \\\n",
       "0  <h1> These are instructions </h1> 1. This is <...   \n",
       "\n",
       "                                                team  \\\n",
       "0  Any text about the team. If this becomes more ...   \n",
       "\n",
       "                                         contact     label_info_box  \\\n",
       "0  Please contact the admin at ics@dashboard.com  Topic Description   \n",
       "\n",
       "  label_top_left_box label_bottom_left_box label_top_right_box  \\\n",
       "0            Funders                   UOA        Institutions   \n",
       "\n",
       "  label_bottom_right_box                                  uk_map_colourramp  \\\n",
       "0          Beneficiaries  ['#fff5f0', '#fff5f0', '#fee0d2', '#fcbba1', '...   \n",
       "\n",
       "                                   global_colourramp funders_bar_colour  \n",
       "0  ['#f7fbff', '#e9f2f9', '#deebf7', '#c6dbef', '...            #9ecae1  "
      ]
     },
     "execution_count": 54,
     "metadata": {},
     "output_type": "execute_result"
    }
   ],
   "source": [
    "df = pd.read_csv(BASE_TEST.joinpath(\"WEBSITE_TEXT.csv\"))\n",
    "df"
   ]
  }
 ],
 "metadata": {
  "kernelspec": {
   "display_name": "Python 3 (ipykernel)",
   "language": "python",
   "name": "python3"
  },
  "language_info": {
   "codemirror_mode": {
    "name": "ipython",
    "version": 3
   },
   "file_extension": ".py",
   "mimetype": "text/x-python",
   "name": "python",
   "nbconvert_exporter": "python",
   "pygments_lexer": "ipython3",
   "version": "3.10.6"
  }
 },
 "nbformat": 4,
 "nbformat_minor": 5
}
