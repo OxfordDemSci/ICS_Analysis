{
 "cells": [
  {
   "cell_type": "code",
   "execution_count": 2,
   "id": "b0714f0c",
   "metadata": {},
   "outputs": [],
   "source": [
    "from pathlib import Path\n",
    "import pandas as pd\n",
    "\n",
    "BASE_CSVS = Path(r'C:\\Users\\dkerr\\Documents\\GISRede\\OXFORD_UNI_WORK\\ICS_Analysis\\src\\dashboard\\api\\app\\data\\db-data').resolve()\n",
    "BASE_TEST = Path(r'C:\\Users\\dkerr\\Documents\\GISRede\\OXFORD_UNI_WORK\\ICS_Analysis\\src\\dashboard\\api\\tests\\test_data').resolve()\n"
   ]
  },
  {
   "cell_type": "code",
   "execution_count": 45,
   "id": "0be4e79c",
   "metadata": {},
   "outputs": [],
   "source": [
    "ics = pd.read_csv(BASE_CSVS.joinpath(\"ICS_DATABASE_TABLE.csv\"))\n",
    "ics = ics.sample(frac=1).reset_index(drop=True)\n",
    "ics_ids = ics.ics_id.tolist()[0:99]\n",
    "ids = ics.id.tolist()[0:99]\n",
    "ukprns = ics.ukprn.tolist()[0:99]\n",
    "ics = ics[ics.ics_id.isin(ics_ids)]\n",
    "ics.to_csv(BASE_TEST.joinpath(\"ICS_DATABASE_TABLE.csv\"), index=False)"
   ]
  },
  {
   "cell_type": "code",
   "execution_count": 46,
   "id": "30d35f20",
   "metadata": {},
   "outputs": [],
   "source": [
    "df_country = pd.read_csv(BASE_CSVS.joinpath(\"ICS_TO_COUNTRY_LOOKUP_TABLE.csv\"))\n",
    "df_country = df_country[df_country.ics_table_id.isin(ids)]\n",
    "df_country.to_csv(BASE_TEST.joinpath(\"ICS_TO_COUNTRY_LOOKUP_TABLE.csv\"), index=False)"
   ]
  },
  {
   "cell_type": "code",
   "execution_count": 47,
   "id": "e2e44f3c",
   "metadata": {},
   "outputs": [],
   "source": [
    "df_funders = pd.read_csv(BASE_CSVS.joinpath(\"ICS_TO_FUNDERS_LOOKUP_TABLE.csv\"))\n",
    "df_funders = df_funders[df_funders.ics_table_id.isin(ids)]\n",
    "df_funders.to_csv(BASE_TEST.joinpath(\"ICS_TO_FUNDERS_LOOKUP_TABLE.csv\"), index=False)"
   ]
  },
  {
   "cell_type": "code",
   "execution_count": 48,
   "id": "6ebe3d75",
   "metadata": {},
   "outputs": [],
   "source": [
    "df_inst = pd.read_csv(BASE_CSVS.joinpath(\"INSTITUTES.csv\"))\n",
    "df_inst = df_inst[df_inst.ukprn.isin(ukprns)]\n",
    "df_inst.to_csv(BASE_TEST.joinpath('INSTITUES.csv'), index=False)"
   ]
  },
  {
   "cell_type": "code",
   "execution_count": 49,
   "id": "badd75d7",
   "metadata": {},
   "outputs": [],
   "source": [
    "df_topic_groups = pd.read_csv(BASE_CSVS.joinpath(\"TOPIC_GROUPS_TABLE.csv\"))\n",
    "df_topic_groups.to_csv(BASE_TEST.joinpath(\"TOPIC_GROUPS_TABLE.csv\"), index=False)"
   ]
  },
  {
   "cell_type": "code",
   "execution_count": 50,
   "id": "bb17b817",
   "metadata": {},
   "outputs": [],
   "source": [
    "df_weights = pd.read_csv(BASE_CSVS.joinpath(\"TOPIC_WEIGHTS_TABLE.csv\"))\n",
    "df_weights = df_weights[df_weights.ics_id.isin(ics_ids)]\n",
    "df_weights.to_csv(BASE_TEST.joinpath(\"TOPIC_WEIGHTS_TABLE.csv\"), index=False)"
   ]
  },
  {
   "cell_type": "code",
   "execution_count": 51,
   "id": "149ad0c2",
   "metadata": {},
   "outputs": [],
   "source": [
    "df_topics = pd.read_csv(BASE_CSVS.joinpath(\"TOPICS_TABLE.csv\"))\n",
    "df_topics.to_csv(BASE_TEST.joinpath(\"TOPICS_TABLE.csv\"), index=False)"
   ]
  },
  {
   "cell_type": "code",
   "execution_count": 52,
   "id": "c2d1e7b1",
   "metadata": {},
   "outputs": [],
   "source": [
    "df_uoa = pd.read_csv(BASE_CSVS.joinpath(\"UOA_TABLE.csv\"))\n",
    "df_uoa.to_csv(BASE_TEST.joinpath(\"UOA_TABLE.csv\"), index=False)"
   ]
  }
 ],
 "metadata": {
  "kernelspec": {
   "display_name": "Python 3 (ipykernel)",
   "language": "python",
   "name": "python3"
  },
  "language_info": {
   "codemirror_mode": {
    "name": "ipython",
    "version": 3
   },
   "file_extension": ".py",
   "mimetype": "text/x-python",
   "name": "python",
   "nbconvert_exporter": "python",
   "pygments_lexer": "ipython3",
   "version": "3.10.6"
  }
 },
 "nbformat": 4,
 "nbformat_minor": 5
}
