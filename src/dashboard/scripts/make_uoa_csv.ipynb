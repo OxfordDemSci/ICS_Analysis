{
 "cells": [
  {
   "cell_type": "code",
   "execution_count": 1,
   "id": "77a970a8",
   "metadata": {},
   "outputs": [],
   "source": [
    "from pathlib import Path\n",
    "import random\n",
    "import pandas as pd\n",
    "\n",
    "BASE = Path('.').resolve().joinpath('data/for_db')\n",
    "df = pd.read_csv(BASE.joinpath('UOA_TABLE.csv'))"
   ]
  },
  {
   "cell_type": "code",
   "execution_count": 4,
   "id": "13e2a95a",
   "metadata": {},
   "outputs": [],
   "source": [
    "cats = ['A', 'B', 'C', 'D', 'Shape', 'STEM']\n",
    "\n",
    "def get_random_cat(row):\n",
    "    return random.choice(cats)\n",
    "\n",
    "df['assessment_panel'] = df.apply(get_random_cat, axis=1)\n",
    "df.to_csv(BASE.joinpath('UOA_TABLE.csv'))"
   ]
  }
 ],
 "metadata": {
  "kernelspec": {
   "display_name": "Python 3 (ipykernel)",
   "language": "python",
   "name": "python3"
  },
  "language_info": {
   "codemirror_mode": {
    "name": "ipython",
    "version": 3
   },
   "file_extension": ".py",
   "mimetype": "text/x-python",
   "name": "python",
   "nbconvert_exporter": "python",
   "pygments_lexer": "ipython3",
   "version": "3.10.6"
  }
 },
 "nbformat": 4,
 "nbformat_minor": 5
}
