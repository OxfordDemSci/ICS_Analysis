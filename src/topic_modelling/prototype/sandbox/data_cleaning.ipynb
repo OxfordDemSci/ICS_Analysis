{
 "cells": [
  {
   "cell_type": "code",
   "execution_count": 1,
   "id": "941e4128-6c2c-4af7-8942-e9d12f0283b7",
   "metadata": {},
   "outputs": [],
   "source": [
    "import pandas as pd\n",
    "import numpy as np\n",
    "import re\n",
    "import matplotlib.pyplot as plt\n",
    "from text_helpers import *"
   ]
  },
  {
   "cell_type": "code",
   "execution_count": 2,
   "id": "c479e007-f7e8-4917-acb7-d6a4dabbc5fb",
   "metadata": {},
   "outputs": [],
   "source": [
    "import warnings\n",
    "warnings.filterwarnings('ignore')"
   ]
  },
  {
   "cell_type": "code",
   "execution_count": 3,
   "id": "7ff130df-61c4-4bba-be90-9ef727ed1a6d",
   "metadata": {},
   "outputs": [],
   "source": [
    "ics_df = pd.read_excel(\"./data/clean_ref_ics_data.xlsx\")"
   ]
  },
  {
   "cell_type": "markdown",
   "id": "d3715c94-29b2-4e8a-9d41-6994a53067f0",
   "metadata": {
    "tags": []
   },
   "source": [
    "## Examining data & cleaning"
   ]
  },
  {
   "cell_type": "code",
   "execution_count": 4,
   "id": "916bf54a-4086-42c1-beaa-23271b28b133",
   "metadata": {},
   "outputs": [],
   "source": [
    "columns_needed = ['REF impact case study identifier', 'Main panel',\t'Unit of assessment number', 'Summary impact type' \n",
    "                  ,'1. Summary of the impact',\t'2. Underpinning research', '3. References to the research',\n",
    "                  '4. Details of the impact', '5. Sources to corroborate the impact']\n",
    "\n",
    "columns_for_analysis = ['1. Summary of the impact',\t'2. Underpinning research', '3. References to the research',\n",
    "                  '4. Details of the impact', '5. Sources to corroborate the impact']\n",
    "\n",
    "ics_df = ics_df[columns_needed]\n",
    "ics_df['case_id'] = ics_df['REF impact case study identifier']"
   ]
  },
  {
   "cell_type": "code",
   "execution_count": 5,
   "id": "ce9f0ee7-e484-4d0b-892c-8e583bb9e077",
   "metadata": {},
   "outputs": [],
   "source": [
    "ics_df_sample = ics_df[(ics_df['Main panel'] == 'C')|(ics_df['Main panel'] == 'D')|(ics_df['Unit of assessment number'] == 4)]"
   ]
  },
  {
   "cell_type": "code",
   "execution_count": 6,
   "id": "07646a98-6951-4244-8536-9f6d6e6f19c0",
   "metadata": {},
   "outputs": [
    {
     "data": {
      "text/plain": [
       "Index(['REF impact case study identifier', 'Main panel',\n",
       "       'Unit of assessment number', 'Summary impact type',\n",
       "       '1. Summary of the impact', '2. Underpinning research',\n",
       "       '3. References to the research', '4. Details of the impact',\n",
       "       '5. Sources to corroborate the impact', 'case_id'],\n",
       "      dtype='object')"
      ]
     },
     "execution_count": 6,
     "metadata": {},
     "output_type": "execute_result"
    }
   ],
   "source": [
    "ics_df_sample.columns"
   ]
  },
  {
   "cell_type": "code",
   "execution_count": 7,
   "id": "723c336d-f103-4ec6-86e9-12424e66b0d8",
   "metadata": {},
   "outputs": [],
   "source": [
    "stopwords = make_stopwords(\"./data/support\")"
   ]
  },
  {
   "cell_type": "code",
   "execution_count": 8,
   "id": "9525650c-05f5-434c-a25e-b4aef81333e5",
   "metadata": {},
   "outputs": [
    {
     "name": "stdout",
     "output_type": "stream",
     "text": [
      "CPU times: user 4.24 s, sys: 47.7 ms, total: 4.28 s\n",
      "Wall time: 4.29 s\n"
     ]
    }
   ],
   "source": [
    "%%time\n",
    "ics_df_sample = generate_cleaned_text_and_count(ics_df_sample, columns_for_analysis, clean_text, None, \"cleaned_\", False)"
   ]
  },
  {
   "cell_type": "code",
   "execution_count": null,
   "id": "4fb7325c-1bd8-4e2a-938d-e4174310954d",
   "metadata": {},
   "outputs": [],
   "source": [
    "%%time\n",
    "ics_df_sample = generate_cleaned_text_and_count(ics_df_sample, columns_for_analysis, clean_and_lemmatize, \"./data\", \"lemmatized_new_sample_\")"
   ]
  },
  {
   "cell_type": "code",
   "execution_count": 13,
   "id": "376c3105-09fd-4e9b-b8d1-8a7c76d62be0",
   "metadata": {},
   "outputs": [],
   "source": [
    "ics_df_sample.to_csv(\"./data/clean_ref_ics_data_cleaned_lemmatized.csv\", index = False)"
   ]
  },
  {
   "cell_type": "code",
   "execution_count": null,
   "id": "0011f60d-c0b1-48fc-9c70-afcca2da57c9",
   "metadata": {},
   "outputs": [],
   "source": [
    "#ics_df = generate_cleaned_text_and_count(ics_df, columns_for_analysis, \"./data\", \"lemmatized_new_\")"
   ]
  },
  {
   "cell_type": "markdown",
   "id": "24a3dd0d-25a0-41ad-b960-cfa54ac3b80c",
   "metadata": {
    "tags": []
   },
   "source": [
    "## Generating n-grams"
   ]
  },
  {
   "cell_type": "code",
   "execution_count": 26,
   "id": "56007697-2ee0-49e1-a57f-1344ba20cb85",
   "metadata": {},
   "outputs": [],
   "source": [
    "from nltk import ngrams\n",
    "import csv"
   ]
  },
  {
   "cell_type": "code",
   "execution_count": null,
   "id": "fc164c63-4267-491c-aac4-cb3d50681790",
   "metadata": {},
   "outputs": [],
   "source": [
    "def generate_ngrams(df, path):\n",
    "    for i in range(2,5):\n",
    "        for col in columns_for_analysis:\n",
    "            text = list(df['lemmatized_'+col])\n",
    "            n_grams = [ngrams(sequence=nltk.word_tokenize(t), n = i) for t in text]\n",
    "            # save n_grams to csv\n",
    "            with open(f'{path}/sample_{col}_{i}grams.csv', 'w', newline='') as csvfile:\n",
    "                writer = csv.writer(csvfile)\n",
    "                writer.writerow(['n_gram'])\n",
    "                for ngram in n_grams:\n",
    "                    for gram in ngram:\n",
    "                        writer.writerow(gram)\n",
    "            print(f\"{col} {i} gram finished\")\n",
    "    return"
   ]
  },
  {
   "cell_type": "code",
   "execution_count": null,
   "id": "655ea458-89cf-4076-b052-4348104de075",
   "metadata": {},
   "outputs": [],
   "source": [
    "generate_ngrams(ics_df_sample, \"./data/ngrams\")"
   ]
  }
 ],
 "metadata": {
  "kernelspec": {
   "display_name": "Python 3",
   "language": "python",
   "name": "python3"
  },
  "language_info": {
   "codemirror_mode": {
    "name": "ipython",
    "version": 3
   },
   "file_extension": ".py",
   "mimetype": "text/x-python",
   "name": "python",
   "nbconvert_exporter": "python",
   "pygments_lexer": "ipython3",
   "version": "3.9.13"
  }
 },
 "nbformat": 4,
 "nbformat_minor": 5
}
